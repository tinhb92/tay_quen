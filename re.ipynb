{
  "nbformat": 4,
  "nbformat_minor": 0,
  "metadata": {
    "colab": {
      "name": "re.ipynb",
      "provenance": [],
      "include_colab_link": true
    },
    "kernelspec": {
      "name": "python3",
      "display_name": "Python 3"
    }
  },
  "cells": [
    {
      "cell_type": "markdown",
      "metadata": {
        "id": "view-in-github",
        "colab_type": "text"
      },
      "source": [
        "<a href=\"https://colab.research.google.com/github/tinhb92/tay_quen/blob/master/re.ipynb\" target=\"_parent\"><img src=\"https://colab.research.google.com/assets/colab-badge.svg\" alt=\"Open In Colab\"/></a>"
      ]
    },
    {
      "cell_type": "code",
      "metadata": {
        "id": "qV9x9_Ljqb7r",
        "colab_type": "code",
        "colab": {}
      },
      "source": [
        "import re"
      ],
      "execution_count": 0,
      "outputs": []
    },
    {
      "cell_type": "code",
      "metadata": {
        "id": "9rOeaxCYqwR3",
        "colab_type": "code",
        "colab": {}
      },
      "source": [
        "sentence = 'The rain in Spain'"
      ],
      "execution_count": 0,
      "outputs": []
    },
    {
      "cell_type": "markdown",
      "metadata": {
        "id": "765lZEIBqTt1",
        "colab_type": "text"
      },
      "source": [
        "Qn 1. Check if 'rain' is in the string"
      ]
    },
    {
      "cell_type": "code",
      "metadata": {
        "id": "mYEKsxxcdt2O",
        "colab_type": "code",
        "outputId": "cdf37131-0277-4c5c-e997-e36d49a3d093",
        "colab": {
          "base_uri": "https://localhost:8080/",
          "height": 34
        }
      },
      "source": [
        "bool(re.search(r'rain', sentence))"
      ],
      "execution_count": 6,
      "outputs": [
        {
          "output_type": "execute_result",
          "data": {
            "text/plain": [
              "True"
            ]
          },
          "metadata": {
            "tags": []
          },
          "execution_count": 6
        }
      ]
    },
    {
      "cell_type": "markdown",
      "metadata": {
        "id": "INPkI4OCennu",
        "colab_type": "text"
      },
      "source": [
        "Qn 2. Search the string to see if it starts with \"The\" and ends with \"Spain\"\n",
        "\n"
      ]
    },
    {
      "cell_type": "code",
      "metadata": {
        "id": "YFwM54t3dwlS",
        "colab_type": "code",
        "colab": {
          "base_uri": "https://localhost:8080/",
          "height": 34
        },
        "outputId": "a120cda9-4ec8-4cd8-d245-28fb20afb598"
      },
      "source": [
        "bool(re.search(\"^The.*Spain$\", sentence))"
      ],
      "execution_count": 11,
      "outputs": [
        {
          "output_type": "execute_result",
          "data": {
            "text/plain": [
              "True"
            ]
          },
          "metadata": {
            "tags": []
          },
          "execution_count": 11
        }
      ]
    },
    {
      "cell_type": "markdown",
      "metadata": {
        "id": "LgQbUZRrryuJ",
        "colab_type": "text"
      },
      "source": [
        "https://www.kaggle.com/sohier/introduction-to-regular-expressions"
      ]
    },
    {
      "cell_type": "code",
      "metadata": {
        "id": "3gQfsxmBsatP",
        "colab_type": "code",
        "colab": {}
      },
      "source": [
        "veggie_request = 'I would like some vegetables, vitamins, and water.'"
      ],
      "execution_count": 0,
      "outputs": []
    },
    {
      "cell_type": "markdown",
      "metadata": {
        "id": "JKSrKaTrsMO7",
        "colab_type": "text"
      },
      "source": [
        "Qn 3. Replace vegetables, vitamins, water with pie"
      ]
    },
    {
      "cell_type": "code",
      "metadata": {
        "id": "k5yEuC6nryb4",
        "colab_type": "code",
        "colab": {
          "base_uri": "https://localhost:8080/",
          "height": 34
        },
        "outputId": "a9665d3d-a92c-4dfe-f4b1-56ac730508dd"
      },
      "source": [
        "re.sub('vegetables|vitamins|water', 'pie', veggie_request)"
      ],
      "execution_count": 13,
      "outputs": [
        {
          "output_type": "execute_result",
          "data": {
            "text/plain": [
              "'I would like some pie, pie, and pie.'"
            ]
          },
          "metadata": {
            "tags": []
          },
          "execution_count": 13
        }
      ]
    },
    {
      "cell_type": "code",
      "metadata": {
        "id": "5GCAQKGaryZa",
        "colab_type": "code",
        "colab": {}
      },
      "source": [
        ""
      ],
      "execution_count": 0,
      "outputs": []
    },
    {
      "cell_type": "code",
      "metadata": {
        "id": "s9p2ex7jryTG",
        "colab_type": "code",
        "colab": {}
      },
      "source": [
        ""
      ],
      "execution_count": 0,
      "outputs": []
    },
    {
      "cell_type": "code",
      "metadata": {
        "id": "PNhKukOQryNx",
        "colab_type": "code",
        "colab": {}
      },
      "source": [
        ""
      ],
      "execution_count": 0,
      "outputs": []
    },
    {
      "cell_type": "code",
      "metadata": {
        "id": "p4wTCELgehTd",
        "colab_type": "code",
        "outputId": "8e797049-caac-409b-a556-cf3e2236c890",
        "colab": {
          "base_uri": "https://localhost:8080/",
          "height": 34
        }
      },
      "source": [
        "x = re.findall(\"ai\", txt)\n",
        "print(x)"
      ],
      "execution_count": 0,
      "outputs": [
        {
          "output_type": "stream",
          "text": [
            "['ai', 'ai']\n"
          ],
          "name": "stdout"
        }
      ]
    },
    {
      "cell_type": "code",
      "metadata": {
        "id": "a2oBDZdRe_gR",
        "colab_type": "code",
        "outputId": "74e7ebee-220b-4d78-cffe-368db479d841",
        "colab": {
          "base_uri": "https://localhost:8080/",
          "height": 34
        }
      },
      "source": [
        "x = re.search(\"\\s\", txt)\n",
        "\n",
        "print(\"The first white-space character is located in position:\", x.start())"
      ],
      "execution_count": 0,
      "outputs": [
        {
          "output_type": "stream",
          "text": [
            "The first white-space character is located in position: 3\n"
          ],
          "name": "stdout"
        }
      ]
    },
    {
      "cell_type": "code",
      "metadata": {
        "id": "zx3OTK17fRxj",
        "colab_type": "code",
        "colab": {}
      },
      "source": [
        ""
      ],
      "execution_count": 0,
      "outputs": []
    }
  ]
}