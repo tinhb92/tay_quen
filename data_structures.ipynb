{
  "nbformat": 4,
  "nbformat_minor": 0,
  "metadata": {
    "colab": {
      "name": "data structures.ipynb",
      "provenance": [],
      "include_colab_link": true
    },
    "kernelspec": {
      "name": "python3",
      "display_name": "Python 3"
    }
  },
  "cells": [
    {
      "cell_type": "markdown",
      "metadata": {
        "id": "view-in-github",
        "colab_type": "text"
      },
      "source": [
        "<a href=\"https://colab.research.google.com/github/tinhb92/tay_quen/blob/master/data_structures.ipynb\" target=\"_parent\"><img src=\"https://colab.research.google.com/assets/colab-badge.svg\" alt=\"Open In Colab\"/></a>"
      ]
    },
    {
      "cell_type": "markdown",
      "metadata": {
        "id": "fHBk0GpuYYom",
        "colab_type": "text"
      },
      "source": [
        "https://leetcode.com/problems/move-zeroes/\n",
        "\n",
        "283. Move Zeroes"
      ]
    },
    {
      "cell_type": "markdown",
      "metadata": {
        "id": "AdBPTTvIYU1V",
        "colab_type": "text"
      },
      "source": [
        "Given an array nums, write a function to move all 0's to the end of it while maintaining the relative order of the non-zero elements.\n",
        "\n",
        "Input: [0,1,0,3,12]\n",
        "Output: [1,3,12,0,0]"
      ]
    },
    {
      "cell_type": "code",
      "metadata": {
        "id": "JIKUkFsfYFme",
        "colab_type": "code",
        "colab": {}
      },
      "source": [
        "from typing import List\n",
        "\n",
        "class Solution:\n",
        "    def moveZeroes(self, nums: List[int]) -> None:\n",
        "        \"\"\"\n",
        "        Do not return anything, modify nums in-place instead.\n",
        "        \"\"\"\n",
        "        cnt = nums.count(0)\n",
        "        \n",
        "        # nums = [a for a in nums if a != 0]        \n",
        "        # nums.extend([0] * cnt)=\n",
        "\n",
        "        for i in range(cnt):\n",
        "            nums.remove(0) #  Delete the front zero\n",
        "            nums.append(0)\n",
        "                \n",
        "        "
      ],
      "execution_count": 0,
      "outputs": []
    },
    {
      "cell_type": "code",
      "metadata": {
        "id": "ckk16-x8Y2aA",
        "colab_type": "code",
        "colab": {}
      },
      "source": [
        ""
      ],
      "execution_count": 0,
      "outputs": []
    }
  ]
}