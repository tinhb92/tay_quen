{
  "nbformat": 4,
  "nbformat_minor": 0,
  "metadata": {
    "colab": {
      "name": "sql.ipynb",
      "provenance": [],
      "collapsed_sections": [],
      "include_colab_link": true
    },
    "kernelspec": {
      "name": "python3",
      "display_name": "Python 3"
    }
  },
  "cells": [
    {
      "cell_type": "markdown",
      "metadata": {
        "id": "view-in-github",
        "colab_type": "text"
      },
      "source": [
        "<a href=\"https://colab.research.google.com/github/tinhb92/tay_quen/blob/master/sql.ipynb\" target=\"_parent\"><img src=\"https://colab.research.google.com/assets/colab-badge.svg\" alt=\"Open In Colab\"/></a>"
      ]
    },
    {
      "cell_type": "code",
      "metadata": {
        "id": "v_TjainY-A-n",
        "colab_type": "code",
        "colab": {}
      },
      "source": [
        "%%capture\n",
        "!pip install -U pandasql\n",
        "!pip install pydbgen "
      ],
      "execution_count": 0,
      "outputs": []
    },
    {
      "cell_type": "markdown",
      "metadata": {
        "id": "Q52F8bRBPwG0",
        "colab_type": "text"
      },
      "source": [
        "Initialize synthetic datasets"
      ]
    },
    {
      "cell_type": "code",
      "metadata": {
        "id": "Fghn2OaORNek",
        "colab_type": "code",
        "colab": {}
      },
      "source": [
        "import pydbgen\n",
        "from pydbgen import pydbgen\n",
        "myDB=pydbgen.pydb()"
      ],
      "execution_count": 0,
      "outputs": []
    },
    {
      "cell_type": "code",
      "metadata": {
        "id": "I9YePTMTD7dM",
        "colab_type": "code",
        "outputId": "fbc3e4ef-fd73-4303-bdad-f65ffd1bffdc",
        "colab": {
          "base_uri": "https://localhost:8080/",
          "height": 195
        }
      },
      "source": [
        "df_name = myDB.gen_dataframe(20,['name','phone'], seed = 8)\n",
        "df_name['company_id'] = range(20)\n",
        "df_name.head()"
      ],
      "execution_count": 9,
      "outputs": [
        {
          "output_type": "execute_result",
          "data": {
            "text/html": [
              "<div>\n",
              "<style scoped>\n",
              "    .dataframe tbody tr th:only-of-type {\n",
              "        vertical-align: middle;\n",
              "    }\n",
              "\n",
              "    .dataframe tbody tr th {\n",
              "        vertical-align: top;\n",
              "    }\n",
              "\n",
              "    .dataframe thead th {\n",
              "        text-align: right;\n",
              "    }\n",
              "</style>\n",
              "<table border=\"1\" class=\"dataframe\">\n",
              "  <thead>\n",
              "    <tr style=\"text-align: right;\">\n",
              "      <th></th>\n",
              "      <th>name</th>\n",
              "      <th>phone-number</th>\n",
              "      <th>company_id</th>\n",
              "    </tr>\n",
              "  </thead>\n",
              "  <tbody>\n",
              "    <tr>\n",
              "      <th>0</th>\n",
              "      <td>Justin Holt</td>\n",
              "      <td>126-314-5269</td>\n",
              "      <td>0</td>\n",
              "    </tr>\n",
              "    <tr>\n",
              "      <th>1</th>\n",
              "      <td>Ryan Wilson</td>\n",
              "      <td>732-239-5883</td>\n",
              "      <td>1</td>\n",
              "    </tr>\n",
              "    <tr>\n",
              "      <th>2</th>\n",
              "      <td>Mitchell West</td>\n",
              "      <td>967-500-3934</td>\n",
              "      <td>2</td>\n",
              "    </tr>\n",
              "    <tr>\n",
              "      <th>3</th>\n",
              "      <td>Cynthia Martin</td>\n",
              "      <td>541-648-7294</td>\n",
              "      <td>3</td>\n",
              "    </tr>\n",
              "    <tr>\n",
              "      <th>4</th>\n",
              "      <td>Megan Rojas</td>\n",
              "      <td>381-227-9219</td>\n",
              "      <td>4</td>\n",
              "    </tr>\n",
              "  </tbody>\n",
              "</table>\n",
              "</div>"
            ],
            "text/plain": [
              "             name  phone-number  company_id\n",
              "0     Justin Holt  126-314-5269           0\n",
              "1     Ryan Wilson  732-239-5883           1\n",
              "2   Mitchell West  967-500-3934           2\n",
              "3  Cynthia Martin  541-648-7294           3\n",
              "4     Megan Rojas  381-227-9219           4"
            ]
          },
          "metadata": {
            "tags": []
          },
          "execution_count": 9
        }
      ]
    },
    {
      "cell_type": "code",
      "metadata": {
        "id": "ja2Bwvx2DRlI",
        "colab_type": "code",
        "outputId": "61d8fc88-45bc-4f8f-8650-49edec55f812",
        "colab": {
          "base_uri": "https://localhost:8080/",
          "height": 195
        }
      },
      "source": [
        "df_company = myDB.gen_dataframe(20,['company'])\n",
        "df_company['company_id'] = range(20)\n",
        "df_company['country_id'] = range(20)\n",
        "df_company.head()"
      ],
      "execution_count": 10,
      "outputs": [
        {
          "output_type": "execute_result",
          "data": {
            "text/html": [
              "<div>\n",
              "<style scoped>\n",
              "    .dataframe tbody tr th:only-of-type {\n",
              "        vertical-align: middle;\n",
              "    }\n",
              "\n",
              "    .dataframe tbody tr th {\n",
              "        vertical-align: top;\n",
              "    }\n",
              "\n",
              "    .dataframe thead th {\n",
              "        text-align: right;\n",
              "    }\n",
              "</style>\n",
              "<table border=\"1\" class=\"dataframe\">\n",
              "  <thead>\n",
              "    <tr style=\"text-align: right;\">\n",
              "      <th></th>\n",
              "      <th>company</th>\n",
              "      <th>company_id</th>\n",
              "      <th>country_id</th>\n",
              "    </tr>\n",
              "  </thead>\n",
              "  <tbody>\n",
              "    <tr>\n",
              "      <th>0</th>\n",
              "      <td>Saunders, Carter and Molina</td>\n",
              "      <td>0</td>\n",
              "      <td>0</td>\n",
              "    </tr>\n",
              "    <tr>\n",
              "      <th>1</th>\n",
              "      <td>Morgan-Cook</td>\n",
              "      <td>1</td>\n",
              "      <td>1</td>\n",
              "    </tr>\n",
              "    <tr>\n",
              "      <th>2</th>\n",
              "      <td>Reid and Sons</td>\n",
              "      <td>2</td>\n",
              "      <td>2</td>\n",
              "    </tr>\n",
              "    <tr>\n",
              "      <th>3</th>\n",
              "      <td>Hansen PLC</td>\n",
              "      <td>3</td>\n",
              "      <td>3</td>\n",
              "    </tr>\n",
              "    <tr>\n",
              "      <th>4</th>\n",
              "      <td>Gibson Inc</td>\n",
              "      <td>4</td>\n",
              "      <td>4</td>\n",
              "    </tr>\n",
              "  </tbody>\n",
              "</table>\n",
              "</div>"
            ],
            "text/plain": [
              "                       company  company_id  country_id\n",
              "0  Saunders, Carter and Molina           0           0\n",
              "1                  Morgan-Cook           1           1\n",
              "2                Reid and Sons           2           2\n",
              "3                   Hansen PLC           3           3\n",
              "4                   Gibson Inc           4           4"
            ]
          },
          "metadata": {
            "tags": []
          },
          "execution_count": 10
        }
      ]
    },
    {
      "cell_type": "code",
      "metadata": {
        "id": "fmPS-yB3RnF5",
        "colab_type": "code",
        "colab": {
          "base_uri": "https://localhost:8080/",
          "height": 195
        },
        "outputId": "dcb1251f-ff2a-401a-d1b3-4bbeb1bbf4f9"
      },
      "source": [
        "df_country = myDB.gen_dataframe(20,['country','city'])\n",
        "df_country['country_id'] = range(20)\n",
        "df_country.head()"
      ],
      "execution_count": 11,
      "outputs": [
        {
          "output_type": "execute_result",
          "data": {
            "text/html": [
              "<div>\n",
              "<style scoped>\n",
              "    .dataframe tbody tr th:only-of-type {\n",
              "        vertical-align: middle;\n",
              "    }\n",
              "\n",
              "    .dataframe tbody tr th {\n",
              "        vertical-align: top;\n",
              "    }\n",
              "\n",
              "    .dataframe thead th {\n",
              "        text-align: right;\n",
              "    }\n",
              "</style>\n",
              "<table border=\"1\" class=\"dataframe\">\n",
              "  <thead>\n",
              "    <tr style=\"text-align: right;\">\n",
              "      <th></th>\n",
              "      <th>country</th>\n",
              "      <th>city</th>\n",
              "      <th>country_id</th>\n",
              "    </tr>\n",
              "  </thead>\n",
              "  <tbody>\n",
              "    <tr>\n",
              "      <th>0</th>\n",
              "      <td>Montenegro</td>\n",
              "      <td>McVeigh</td>\n",
              "      <td>0</td>\n",
              "    </tr>\n",
              "    <tr>\n",
              "      <th>1</th>\n",
              "      <td>Thailand</td>\n",
              "      <td>Paauilo</td>\n",
              "      <td>1</td>\n",
              "    </tr>\n",
              "    <tr>\n",
              "      <th>2</th>\n",
              "      <td>Tanzania</td>\n",
              "      <td>Lone Pine</td>\n",
              "      <td>2</td>\n",
              "    </tr>\n",
              "    <tr>\n",
              "      <th>3</th>\n",
              "      <td>Kazakhstan</td>\n",
              "      <td>Pine Lawn</td>\n",
              "      <td>3</td>\n",
              "    </tr>\n",
              "    <tr>\n",
              "      <th>4</th>\n",
              "      <td>Solomon Islands</td>\n",
              "      <td>Port Bolivar</td>\n",
              "      <td>4</td>\n",
              "    </tr>\n",
              "  </tbody>\n",
              "</table>\n",
              "</div>"
            ],
            "text/plain": [
              "           country          city  country_id\n",
              "0       Montenegro       McVeigh           0\n",
              "1         Thailand       Paauilo           1\n",
              "2         Tanzania     Lone Pine           2\n",
              "3       Kazakhstan     Pine Lawn           3\n",
              "4  Solomon Islands  Port Bolivar           4"
            ]
          },
          "metadata": {
            "tags": []
          },
          "execution_count": 11
        }
      ]
    },
    {
      "cell_type": "code",
      "metadata": {
        "id": "QgS4MoZqT467",
        "colab_type": "code",
        "colab": {}
      },
      "source": [
        "from pandasql import sqldf#, load_meat, load_births\n",
        "pysqldf = lambda q: sqldf(q, globals())"
      ],
      "execution_count": 0,
      "outputs": []
    },
    {
      "cell_type": "markdown",
      "metadata": {
        "id": "1DvvqaCuTXhG",
        "colab_type": "text"
      },
      "source": [
        "Qn 1. Join df_name with df_company and show the first 3 values"
      ]
    },
    {
      "cell_type": "code",
      "metadata": {
        "id": "ScEjx16hThmq",
        "colab_type": "code",
        "colab": {
          "base_uri": "https://localhost:8080/",
          "height": 136
        },
        "outputId": "762c4c25-f878-4905-8991-0644c25c2a22"
      },
      "source": [
        "pysqldf(\"SELECT * FROM df_name INNER JOIN df_company ON df_name.company_id = df_company.company_id LIMIT 3\")"
      ],
      "execution_count": 18,
      "outputs": [
        {
          "output_type": "execute_result",
          "data": {
            "text/html": [
              "<div>\n",
              "<style scoped>\n",
              "    .dataframe tbody tr th:only-of-type {\n",
              "        vertical-align: middle;\n",
              "    }\n",
              "\n",
              "    .dataframe tbody tr th {\n",
              "        vertical-align: top;\n",
              "    }\n",
              "\n",
              "    .dataframe thead th {\n",
              "        text-align: right;\n",
              "    }\n",
              "</style>\n",
              "<table border=\"1\" class=\"dataframe\">\n",
              "  <thead>\n",
              "    <tr style=\"text-align: right;\">\n",
              "      <th></th>\n",
              "      <th>name</th>\n",
              "      <th>phone-number</th>\n",
              "      <th>company_id</th>\n",
              "      <th>company</th>\n",
              "      <th>company_id</th>\n",
              "      <th>country_id</th>\n",
              "    </tr>\n",
              "  </thead>\n",
              "  <tbody>\n",
              "    <tr>\n",
              "      <th>0</th>\n",
              "      <td>Justin Holt</td>\n",
              "      <td>126-314-5269</td>\n",
              "      <td>0</td>\n",
              "      <td>Saunders, Carter and Molina</td>\n",
              "      <td>0</td>\n",
              "      <td>0</td>\n",
              "    </tr>\n",
              "    <tr>\n",
              "      <th>1</th>\n",
              "      <td>Ryan Wilson</td>\n",
              "      <td>732-239-5883</td>\n",
              "      <td>1</td>\n",
              "      <td>Morgan-Cook</td>\n",
              "      <td>1</td>\n",
              "      <td>1</td>\n",
              "    </tr>\n",
              "    <tr>\n",
              "      <th>2</th>\n",
              "      <td>Mitchell West</td>\n",
              "      <td>967-500-3934</td>\n",
              "      <td>2</td>\n",
              "      <td>Reid and Sons</td>\n",
              "      <td>2</td>\n",
              "      <td>2</td>\n",
              "    </tr>\n",
              "  </tbody>\n",
              "</table>\n",
              "</div>"
            ],
            "text/plain": [
              "            name  phone-number  ...  company_id country_id\n",
              "0    Justin Holt  126-314-5269  ...           0          0\n",
              "1    Ryan Wilson  732-239-5883  ...           1          1\n",
              "2  Mitchell West  967-500-3934  ...           2          2\n",
              "\n",
              "[3 rows x 6 columns]"
            ]
          },
          "metadata": {
            "tags": []
          },
          "execution_count": 18
        }
      ]
    },
    {
      "cell_type": "markdown",
      "metadata": {
        "id": "PbvCpU8rWJX8",
        "colab_type": "text"
      },
      "source": [
        "Qn 2. Show people whose companies are in Thailand (or a certain country)"
      ]
    },
    {
      "cell_type": "code",
      "metadata": {
        "id": "n8SWuKEeXMPb",
        "colab_type": "code",
        "colab": {}
      },
      "source": [
        "q = \"\"\"\n",
        "SELECT * \n",
        "FROM df_name\n",
        "WHERE company_id IN\n",
        "\n",
        "  (SELECT company_id \n",
        "  FROM df_company\n",
        "  WHERE country_id = \n",
        "\n",
        "    (SELECT country_id \n",
        "    FROM df_country \n",
        "    WHERE country = 'Thailand')\n",
        "  )\n",
        "\"\"\""
      ],
      "execution_count": 0,
      "outputs": []
    },
    {
      "cell_type": "code",
      "metadata": {
        "id": "7_jnzwBWTha1",
        "colab_type": "code",
        "colab": {
          "base_uri": "https://localhost:8080/",
          "height": 77
        },
        "outputId": "5f7b432d-f7b9-4034-b17c-d5aeb07b9c90"
      },
      "source": [
        "pysqldf(q).head()"
      ],
      "execution_count": 24,
      "outputs": [
        {
          "output_type": "execute_result",
          "data": {
            "text/html": [
              "<div>\n",
              "<style scoped>\n",
              "    .dataframe tbody tr th:only-of-type {\n",
              "        vertical-align: middle;\n",
              "    }\n",
              "\n",
              "    .dataframe tbody tr th {\n",
              "        vertical-align: top;\n",
              "    }\n",
              "\n",
              "    .dataframe thead th {\n",
              "        text-align: right;\n",
              "    }\n",
              "</style>\n",
              "<table border=\"1\" class=\"dataframe\">\n",
              "  <thead>\n",
              "    <tr style=\"text-align: right;\">\n",
              "      <th></th>\n",
              "      <th>name</th>\n",
              "      <th>phone-number</th>\n",
              "      <th>company_id</th>\n",
              "    </tr>\n",
              "  </thead>\n",
              "  <tbody>\n",
              "    <tr>\n",
              "      <th>0</th>\n",
              "      <td>Ryan Wilson</td>\n",
              "      <td>732-239-5883</td>\n",
              "      <td>1</td>\n",
              "    </tr>\n",
              "  </tbody>\n",
              "</table>\n",
              "</div>"
            ],
            "text/plain": [
              "          name  phone-number  company_id\n",
              "0  Ryan Wilson  732-239-5883           1"
            ]
          },
          "metadata": {
            "tags": []
          },
          "execution_count": 24
        }
      ]
    },
    {
      "cell_type": "markdown",
      "metadata": {
        "id": "wFONz65eY0zY",
        "colab_type": "text"
      },
      "source": [
        "Qn 3. Show people whose company id > 3"
      ]
    },
    {
      "cell_type": "code",
      "metadata": {
        "id": "zd4D3mycYzqA",
        "colab_type": "code",
        "colab": {}
      },
      "source": [
        "q = \"\"\"\n",
        "SELECT * FROM df_name WHERE company_id > 3\n",
        "\"\"\""
      ],
      "execution_count": 0,
      "outputs": []
    },
    {
      "cell_type": "code",
      "metadata": {
        "id": "ZJiBYazMThXX",
        "colab_type": "code",
        "colab": {
          "base_uri": "https://localhost:8080/",
          "height": 195
        },
        "outputId": "d6fbf621-0fc4-4829-90fa-0ac57a8fdf82"
      },
      "source": [
        "pysqldf(q).head()"
      ],
      "execution_count": 26,
      "outputs": [
        {
          "output_type": "execute_result",
          "data": {
            "text/html": [
              "<div>\n",
              "<style scoped>\n",
              "    .dataframe tbody tr th:only-of-type {\n",
              "        vertical-align: middle;\n",
              "    }\n",
              "\n",
              "    .dataframe tbody tr th {\n",
              "        vertical-align: top;\n",
              "    }\n",
              "\n",
              "    .dataframe thead th {\n",
              "        text-align: right;\n",
              "    }\n",
              "</style>\n",
              "<table border=\"1\" class=\"dataframe\">\n",
              "  <thead>\n",
              "    <tr style=\"text-align: right;\">\n",
              "      <th></th>\n",
              "      <th>name</th>\n",
              "      <th>phone-number</th>\n",
              "      <th>company_id</th>\n",
              "    </tr>\n",
              "  </thead>\n",
              "  <tbody>\n",
              "    <tr>\n",
              "      <th>0</th>\n",
              "      <td>Megan Rojas</td>\n",
              "      <td>381-227-9219</td>\n",
              "      <td>4</td>\n",
              "    </tr>\n",
              "    <tr>\n",
              "      <th>1</th>\n",
              "      <td>Edward Wagner</td>\n",
              "      <td>320-734-1920</td>\n",
              "      <td>5</td>\n",
              "    </tr>\n",
              "    <tr>\n",
              "      <th>2</th>\n",
              "      <td>Paige Snow</td>\n",
              "      <td>873-269-5975</td>\n",
              "      <td>6</td>\n",
              "    </tr>\n",
              "    <tr>\n",
              "      <th>3</th>\n",
              "      <td>Beth Jordan</td>\n",
              "      <td>449-694-4829</td>\n",
              "      <td>7</td>\n",
              "    </tr>\n",
              "    <tr>\n",
              "      <th>4</th>\n",
              "      <td>Joseph Smith</td>\n",
              "      <td>235-080-7901</td>\n",
              "      <td>8</td>\n",
              "    </tr>\n",
              "  </tbody>\n",
              "</table>\n",
              "</div>"
            ],
            "text/plain": [
              "            name  phone-number  company_id\n",
              "0    Megan Rojas  381-227-9219           4\n",
              "1  Edward Wagner  320-734-1920           5\n",
              "2     Paige Snow  873-269-5975           6\n",
              "3    Beth Jordan  449-694-4829           7\n",
              "4   Joseph Smith  235-080-7901           8"
            ]
          },
          "metadata": {
            "tags": []
          },
          "execution_count": 26
        }
      ]
    },
    {
      "cell_type": "code",
      "metadata": {
        "id": "Ao6QeJCzThS2",
        "colab_type": "code",
        "colab": {}
      },
      "source": [
        ""
      ],
      "execution_count": 0,
      "outputs": []
    },
    {
      "cell_type": "code",
      "metadata": {
        "id": "zjf8qf2g-UVn",
        "colab_type": "code",
        "colab": {}
      },
      "source": [
        ""
      ],
      "execution_count": 0,
      "outputs": []
    },
    {
      "cell_type": "code",
      "metadata": {
        "id": "LcT8SX7S-Wng",
        "colab_type": "code",
        "colab": {}
      },
      "source": [
        ""
      ],
      "execution_count": 0,
      "outputs": []
    },
    {
      "cell_type": "code",
      "metadata": {
        "id": "LGPNd09GBvQ-",
        "colab_type": "code",
        "outputId": "ef58e005-395c-444d-d9e1-fc307ae37bed",
        "colab": {
          "base_uri": "https://localhost:8080/",
          "height": 77
        }
      },
      "source": [
        "pysqldf(\"SELECT SUM(CASE When beef>751 Then 1 Else 0 End ) as sum_beef FROM meat;\").head()"
      ],
      "execution_count": 0,
      "outputs": [
        {
          "output_type": "execute_result",
          "data": {
            "text/html": [
              "<div>\n",
              "<style scoped>\n",
              "    .dataframe tbody tr th:only-of-type {\n",
              "        vertical-align: middle;\n",
              "    }\n",
              "\n",
              "    .dataframe tbody tr th {\n",
              "        vertical-align: top;\n",
              "    }\n",
              "\n",
              "    .dataframe thead th {\n",
              "        text-align: right;\n",
              "    }\n",
              "</style>\n",
              "<table border=\"1\" class=\"dataframe\">\n",
              "  <thead>\n",
              "    <tr style=\"text-align: right;\">\n",
              "      <th></th>\n",
              "      <th>sum_beef</th>\n",
              "    </tr>\n",
              "  </thead>\n",
              "  <tbody>\n",
              "    <tr>\n",
              "      <th>0</th>\n",
              "      <td>783</td>\n",
              "    </tr>\n",
              "  </tbody>\n",
              "</table>\n",
              "</div>"
            ],
            "text/plain": [
              "   sum_beef\n",
              "0       783"
            ]
          },
          "metadata": {
            "tags": []
          },
          "execution_count": 13
        }
      ]
    },
    {
      "cell_type": "code",
      "metadata": {
        "id": "GkJFu_cCEljj",
        "colab_type": "code",
        "outputId": "e96c93e0-bbcf-4b5f-8e26-7be6eb351676",
        "colab": {
          "base_uri": "https://localhost:8080/",
          "height": 77
        }
      },
      "source": [
        "pysqldf(\"SELECT SUM(CASE When beef>751 Then beef Else 0 End ) as sum_beef FROM meat;\").head()"
      ],
      "execution_count": 0,
      "outputs": [
        {
          "output_type": "execute_result",
          "data": {
            "text/html": [
              "<div>\n",
              "<style scoped>\n",
              "    .dataframe tbody tr th:only-of-type {\n",
              "        vertical-align: middle;\n",
              "    }\n",
              "\n",
              "    .dataframe tbody tr th {\n",
              "        vertical-align: top;\n",
              "    }\n",
              "\n",
              "    .dataframe thead th {\n",
              "        text-align: right;\n",
              "    }\n",
              "</style>\n",
              "<table border=\"1\" class=\"dataframe\">\n",
              "  <thead>\n",
              "    <tr style=\"text-align: right;\">\n",
              "      <th></th>\n",
              "      <th>sum_beef</th>\n",
              "    </tr>\n",
              "  </thead>\n",
              "  <tbody>\n",
              "    <tr>\n",
              "      <th>0</th>\n",
              "      <td>1361964.2</td>\n",
              "    </tr>\n",
              "  </tbody>\n",
              "</table>\n",
              "</div>"
            ],
            "text/plain": [
              "    sum_beef\n",
              "0  1361964.2"
            ]
          },
          "metadata": {
            "tags": []
          },
          "execution_count": 14
        }
      ]
    },
    {
      "cell_type": "code",
      "metadata": {
        "id": "3EMI2YWfC_Wd",
        "colab_type": "code",
        "colab": {}
      },
      "source": [
        ""
      ],
      "execution_count": 0,
      "outputs": []
    },
    {
      "cell_type": "code",
      "metadata": {
        "id": "nfdNqoJ14Kss",
        "colab_type": "code",
        "outputId": "abc08acc-4f9a-40c6-a346-8dbafed09256",
        "colab": {
          "base_uri": "https://localhost:8080/",
          "height": 77
        }
      },
      "source": [
        "pysqldf(\"SELECT * FROM df_name LIMIT 1\").head()"
      ],
      "execution_count": 0,
      "outputs": [
        {
          "output_type": "execute_result",
          "data": {
            "text/html": [
              "<div>\n",
              "<style scoped>\n",
              "    .dataframe tbody tr th:only-of-type {\n",
              "        vertical-align: middle;\n",
              "    }\n",
              "\n",
              "    .dataframe tbody tr th {\n",
              "        vertical-align: top;\n",
              "    }\n",
              "\n",
              "    .dataframe thead th {\n",
              "        text-align: right;\n",
              "    }\n",
              "</style>\n",
              "<table border=\"1\" class=\"dataframe\">\n",
              "  <thead>\n",
              "    <tr style=\"text-align: right;\">\n",
              "      <th></th>\n",
              "      <th>name</th>\n",
              "      <th>city</th>\n",
              "      <th>phone-number</th>\n",
              "      <th>id</th>\n",
              "    </tr>\n",
              "  </thead>\n",
              "  <tbody>\n",
              "    <tr>\n",
              "      <th>0</th>\n",
              "      <td>Caitlin Page</td>\n",
              "      <td>Clark Mills</td>\n",
              "      <td>245-346-1101</td>\n",
              "      <td>0</td>\n",
              "    </tr>\n",
              "  </tbody>\n",
              "</table>\n",
              "</div>"
            ],
            "text/plain": [
              "           name         city  phone-number  id\n",
              "0  Caitlin Page  Clark Mills  245-346-1101   0"
            ]
          },
          "metadata": {
            "tags": []
          },
          "execution_count": 21
        }
      ]
    },
    {
      "cell_type": "code",
      "metadata": {
        "id": "C1uxlMldC_Hx",
        "colab_type": "code",
        "colab": {}
      },
      "source": [
        ""
      ],
      "execution_count": 0,
      "outputs": []
    },
    {
      "cell_type": "code",
      "metadata": {
        "id": "QOvZ7nAgC36s",
        "colab_type": "code",
        "colab": {}
      },
      "source": [
        "testdf=myDB.gen_dataframe(20,['name','city','phone','date'])\n"
      ],
      "execution_count": 0,
      "outputs": []
    },
    {
      "cell_type": "markdown",
      "metadata": {
        "id": "7cE4PXRzTVKQ",
        "colab_type": "text"
      },
      "source": [
        "Multiple table; synthetic data for practice"
      ]
    },
    {
      "cell_type": "code",
      "metadata": {
        "id": "8gTXYP4VCPCG",
        "colab_type": "code",
        "colab": {}
      },
      "source": [
        "q = \"\"\"\n",
        "SELECT * FROM df_name\n",
        "INNER JOIN df_company\n",
        "ON df_name.id = df_company.id\n",
        "\"\"\""
      ],
      "execution_count": 0,
      "outputs": []
    },
    {
      "cell_type": "markdown",
      "metadata": {
        "id": "iTTP-pyIXei7",
        "colab_type": "text"
      },
      "source": [
        "Use the result as one table, nested"
      ]
    },
    {
      "cell_type": "code",
      "metadata": {
        "id": "LQGzLxq3DMh3",
        "colab_type": "code",
        "colab": {}
      },
      "source": [
        "q = \"\"\"\n",
        "SELECT name FROM \n",
        "(SELECT * FROM df0 \n",
        "INNER JOIN df1 \n",
        "ON df0.id=df1.id) a\n",
        "\"\"\""
      ],
      "execution_count": 0,
      "outputs": []
    },
    {
      "cell_type": "code",
      "metadata": {
        "id": "oEOUmlJhDooH",
        "colab_type": "code",
        "colab": {}
      },
      "source": [
        "q = \"\"\"\n",
        "SELECT a.name FROM \n",
        "(SELECT * FROM df0 \n",
        "INNER JOIN df1 \n",
        "ON df0.id=df1.id) a\n",
        "\"\"\""
      ],
      "execution_count": 0,
      "outputs": []
    },
    {
      "cell_type": "code",
      "metadata": {
        "id": "Ivyz-yirCU2S",
        "colab_type": "code",
        "outputId": "8fbf7943-e300-46bd-d04a-dc62479cdc39",
        "colab": {
          "base_uri": "https://localhost:8080/",
          "height": 195
        }
      },
      "source": [
        "pysqldf(q).head()"
      ],
      "execution_count": 0,
      "outputs": [
        {
          "output_type": "execute_result",
          "data": {
            "text/html": [
              "<div>\n",
              "<style scoped>\n",
              "    .dataframe tbody tr th:only-of-type {\n",
              "        vertical-align: middle;\n",
              "    }\n",
              "\n",
              "    .dataframe tbody tr th {\n",
              "        vertical-align: top;\n",
              "    }\n",
              "\n",
              "    .dataframe thead th {\n",
              "        text-align: right;\n",
              "    }\n",
              "</style>\n",
              "<table border=\"1\" class=\"dataframe\">\n",
              "  <thead>\n",
              "    <tr style=\"text-align: right;\">\n",
              "      <th></th>\n",
              "      <th>name</th>\n",
              "      <th>city</th>\n",
              "      <th>phone-number</th>\n",
              "      <th>id</th>\n",
              "      <th>company</th>\n",
              "      <th>country</th>\n",
              "      <th>city</th>\n",
              "      <th>id</th>\n",
              "    </tr>\n",
              "  </thead>\n",
              "  <tbody>\n",
              "    <tr>\n",
              "      <th>0</th>\n",
              "      <td>Caitlin Page</td>\n",
              "      <td>Clark Mills</td>\n",
              "      <td>245-346-1101</td>\n",
              "      <td>0</td>\n",
              "      <td>Wolfe Group</td>\n",
              "      <td>Jamaica</td>\n",
              "      <td>Old Fort</td>\n",
              "      <td>0</td>\n",
              "    </tr>\n",
              "    <tr>\n",
              "      <th>1</th>\n",
              "      <td>Tyler Hudson</td>\n",
              "      <td>Pottsboro</td>\n",
              "      <td>950-050-2201</td>\n",
              "      <td>1</td>\n",
              "      <td>Rogers-Whitney</td>\n",
              "      <td>Chile</td>\n",
              "      <td>Warm Beach</td>\n",
              "      <td>1</td>\n",
              "    </tr>\n",
              "    <tr>\n",
              "      <th>2</th>\n",
              "      <td>Caitlin Mora</td>\n",
              "      <td>Carter Lake</td>\n",
              "      <td>497-036-4065</td>\n",
              "      <td>2</td>\n",
              "      <td>Parrish Group</td>\n",
              "      <td>French Southern Territories</td>\n",
              "      <td>Hahntown</td>\n",
              "      <td>2</td>\n",
              "    </tr>\n",
              "    <tr>\n",
              "      <th>3</th>\n",
              "      <td>Tracey Davis</td>\n",
              "      <td>Mount Tabor</td>\n",
              "      <td>636-813-0448</td>\n",
              "      <td>3</td>\n",
              "      <td>Adams Group</td>\n",
              "      <td>Mexico</td>\n",
              "      <td>Lulu</td>\n",
              "      <td>3</td>\n",
              "    </tr>\n",
              "    <tr>\n",
              "      <th>4</th>\n",
              "      <td>Howard Vang</td>\n",
              "      <td>Vanceburg</td>\n",
              "      <td>165-144-8019</td>\n",
              "      <td>4</td>\n",
              "      <td>Carter-Johnson</td>\n",
              "      <td>Jersey</td>\n",
              "      <td>Spragueville</td>\n",
              "      <td>4</td>\n",
              "    </tr>\n",
              "  </tbody>\n",
              "</table>\n",
              "</div>"
            ],
            "text/plain": [
              "           name         city  ...          city  id\n",
              "0  Caitlin Page  Clark Mills  ...      Old Fort   0\n",
              "1  Tyler Hudson    Pottsboro  ...    Warm Beach   1\n",
              "2  Caitlin Mora  Carter Lake  ...      Hahntown   2\n",
              "3  Tracey Davis  Mount Tabor  ...          Lulu   3\n",
              "4   Howard Vang    Vanceburg  ...  Spragueville   4\n",
              "\n",
              "[5 rows x 8 columns]"
            ]
          },
          "metadata": {
            "tags": []
          },
          "execution_count": 30
        }
      ]
    },
    {
      "cell_type": "markdown",
      "metadata": {
        "id": "d_dwU39CD84Q",
        "colab_type": "text"
      },
      "source": [
        "Inner join 2 nested"
      ]
    },
    {
      "cell_type": "code",
      "metadata": {
        "id": "pOlpYwDjBuLD",
        "colab_type": "code",
        "outputId": "402425e4-6cde-4569-cd57-db42f08f0513",
        "colab": {
          "base_uri": "https://localhost:8080/",
          "height": 195
        }
      },
      "source": [
        "pysqldf(\"SELECT * FROM meat ORDER BY beef\").head()"
      ],
      "execution_count": 0,
      "outputs": [
        {
          "output_type": "execute_result",
          "data": {
            "text/html": [
              "<div>\n",
              "<style scoped>\n",
              "    .dataframe tbody tr th:only-of-type {\n",
              "        vertical-align: middle;\n",
              "    }\n",
              "\n",
              "    .dataframe tbody tr th {\n",
              "        vertical-align: top;\n",
              "    }\n",
              "\n",
              "    .dataframe thead th {\n",
              "        text-align: right;\n",
              "    }\n",
              "</style>\n",
              "<table border=\"1\" class=\"dataframe\">\n",
              "  <thead>\n",
              "    <tr style=\"text-align: right;\">\n",
              "      <th></th>\n",
              "      <th>date</th>\n",
              "      <th>beef</th>\n",
              "      <th>veal</th>\n",
              "      <th>pork</th>\n",
              "      <th>lamb_and_mutton</th>\n",
              "      <th>broilers</th>\n",
              "      <th>other_chicken</th>\n",
              "      <th>turkey</th>\n",
              "    </tr>\n",
              "  </thead>\n",
              "  <tbody>\n",
              "    <tr>\n",
              "      <th>0</th>\n",
              "      <td>1946-09-01 00:00:00.000000</td>\n",
              "      <td>366.0</td>\n",
              "      <td>98.0</td>\n",
              "      <td>124.0</td>\n",
              "      <td>63.0</td>\n",
              "      <td>NaN</td>\n",
              "      <td>NaN</td>\n",
              "      <td>NaN</td>\n",
              "    </tr>\n",
              "    <tr>\n",
              "      <th>1</th>\n",
              "      <td>1946-06-01 00:00:00.000000</td>\n",
              "      <td>461.0</td>\n",
              "      <td>78.0</td>\n",
              "      <td>505.0</td>\n",
              "      <td>75.0</td>\n",
              "      <td>NaN</td>\n",
              "      <td>NaN</td>\n",
              "      <td>NaN</td>\n",
              "    </tr>\n",
              "    <tr>\n",
              "      <th>2</th>\n",
              "      <td>1951-06-01 00:00:00.000000</td>\n",
              "      <td>591.0</td>\n",
              "      <td>78.0</td>\n",
              "      <td>798.0</td>\n",
              "      <td>39.0</td>\n",
              "      <td>NaN</td>\n",
              "      <td>NaN</td>\n",
              "      <td>NaN</td>\n",
              "    </tr>\n",
              "    <tr>\n",
              "      <th>3</th>\n",
              "      <td>1946-05-01 00:00:00.000000</td>\n",
              "      <td>605.0</td>\n",
              "      <td>83.0</td>\n",
              "      <td>810.0</td>\n",
              "      <td>65.0</td>\n",
              "      <td>NaN</td>\n",
              "      <td>NaN</td>\n",
              "      <td>NaN</td>\n",
              "    </tr>\n",
              "    <tr>\n",
              "      <th>4</th>\n",
              "      <td>1944-04-01 00:00:00.000000</td>\n",
              "      <td>650.0</td>\n",
              "      <td>89.0</td>\n",
              "      <td>978.0</td>\n",
              "      <td>66.0</td>\n",
              "      <td>NaN</td>\n",
              "      <td>NaN</td>\n",
              "      <td>NaN</td>\n",
              "    </tr>\n",
              "  </tbody>\n",
              "</table>\n",
              "</div>"
            ],
            "text/plain": [
              "                         date   beef  veal  ...  broilers  other_chicken  turkey\n",
              "0  1946-09-01 00:00:00.000000  366.0  98.0  ...       NaN            NaN     NaN\n",
              "1  1946-06-01 00:00:00.000000  461.0  78.0  ...       NaN            NaN     NaN\n",
              "2  1951-06-01 00:00:00.000000  591.0  78.0  ...       NaN            NaN     NaN\n",
              "3  1946-05-01 00:00:00.000000  605.0  83.0  ...       NaN            NaN     NaN\n",
              "4  1944-04-01 00:00:00.000000  650.0  89.0  ...       NaN            NaN     NaN\n",
              "\n",
              "[5 rows x 8 columns]"
            ]
          },
          "metadata": {
            "tags": []
          },
          "execution_count": 15
        }
      ]
    },
    {
      "cell_type": "code",
      "metadata": {
        "id": "qc6UJud0Asn-",
        "colab_type": "code",
        "colab": {}
      },
      "source": [
        "q = \"\"\"SELECT\n",
        "        m.date, m.beef, b.births\n",
        "     FROM\n",
        "        meats m\n",
        "     INNER JOIN\n",
        "        births b\n",
        "           ON m.date = b.date;\"\"\""
      ],
      "execution_count": 0,
      "outputs": []
    },
    {
      "cell_type": "code",
      "metadata": {
        "id": "ty1USmgRwPB4",
        "colab_type": "code",
        "colab": {}
      },
      "source": [
        "joined = pysqldf(q)"
      ],
      "execution_count": 0,
      "outputs": []
    },
    {
      "cell_type": "code",
      "metadata": {
        "id": "mvcHv79Hwf-y",
        "colab_type": "code",
        "colab": {}
      },
      "source": [
        "q = \"\"\"select\n",
        "           strftime('%Y', date) as year\n",
        "           , SUM(beef) as beef_total\n",
        "           FROM\n",
        "              meat\n",
        "           GROUP BY\n",
        "              year;\"\"\""
      ],
      "execution_count": 0,
      "outputs": []
    },
    {
      "cell_type": "code",
      "metadata": {
        "id": "PXSzOyC7wQ3W",
        "colab_type": "code",
        "outputId": "ef4c5881-e0ea-4c75-c487-a86e720d54ff",
        "colab": {
          "base_uri": "https://localhost:8080/",
          "height": 202
        }
      },
      "source": [
        "pysqldf(q).head()"
      ],
      "execution_count": 0,
      "outputs": [
        {
          "output_type": "execute_result",
          "data": {
            "text/html": [
              "<div>\n",
              "<style scoped>\n",
              "    .dataframe tbody tr th:only-of-type {\n",
              "        vertical-align: middle;\n",
              "    }\n",
              "\n",
              "    .dataframe tbody tr th {\n",
              "        vertical-align: top;\n",
              "    }\n",
              "\n",
              "    .dataframe thead th {\n",
              "        text-align: right;\n",
              "    }\n",
              "</style>\n",
              "<table border=\"1\" class=\"dataframe\">\n",
              "  <thead>\n",
              "    <tr style=\"text-align: right;\">\n",
              "      <th></th>\n",
              "      <th>year</th>\n",
              "      <th>beef_total</th>\n",
              "    </tr>\n",
              "  </thead>\n",
              "  <tbody>\n",
              "    <tr>\n",
              "      <th>0</th>\n",
              "      <td>1944</td>\n",
              "      <td>8801.0</td>\n",
              "    </tr>\n",
              "    <tr>\n",
              "      <th>1</th>\n",
              "      <td>1945</td>\n",
              "      <td>9936.0</td>\n",
              "    </tr>\n",
              "    <tr>\n",
              "      <th>2</th>\n",
              "      <td>1946</td>\n",
              "      <td>9010.0</td>\n",
              "    </tr>\n",
              "    <tr>\n",
              "      <th>3</th>\n",
              "      <td>1947</td>\n",
              "      <td>10096.0</td>\n",
              "    </tr>\n",
              "    <tr>\n",
              "      <th>4</th>\n",
              "      <td>1948</td>\n",
              "      <td>8766.0</td>\n",
              "    </tr>\n",
              "  </tbody>\n",
              "</table>\n",
              "</div>"
            ],
            "text/plain": [
              "   year  beef_total\n",
              "0  1944      8801.0\n",
              "1  1945      9936.0\n",
              "2  1946      9010.0\n",
              "3  1947     10096.0\n",
              "4  1948      8766.0"
            ]
          },
          "metadata": {
            "tags": []
          },
          "execution_count": 19
        }
      ]
    },
    {
      "cell_type": "code",
      "metadata": {
        "id": "f1VpvlmgXeCC",
        "colab_type": "code",
        "colab": {}
      },
      "source": [
        ""
      ],
      "execution_count": 0,
      "outputs": []
    }
  ]
}